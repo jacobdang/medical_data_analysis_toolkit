{
 "cells": [
  {
   "cell_type": "code",
   "execution_count": null,
   "id": "035e0f46-720c-4c4e-a518-af42455a0e96",
   "metadata": {},
   "outputs": [],
   "source": [
    "import csv\n",
    "import pandas as pd\n",
    "import json\n",
    "import os\n",
    "import numpy as np\n",
    "import numpy.random as np_random\n",
    "import random\n",
    "import os.path as pathlib\n",
    "\n",
    "\n",
    "\n",
    "source_table_location "
   ]
  },
  {
   "cell_type": "code",
   "execution_count": null,
   "id": "4f092989-cde1-4730-9e6f-b07afd918870",
   "metadata": {},
   "outputs": [],
   "source": [
    "def random_split(orig_merged_table, test_split_ratio=0.2, val_split_ratio=0.1, \n",
    "                 patient_id_column='patient_id', image_id_column='img_id', random_seed=26666):\n",
    "    np.random.seed(random_seed)\n",
    "    random.seed(random_seed)\n",
    "    train_img_id = []\n",
    "    val_img_id = []\n",
    "    test_img_id = []\n",
    "    train_p_id = []\n",
    "    val_p_id = []\n",
    "    test_p_id = []\n",
    "    for idx in range(len(orig_merged_table)):\n",
    "        if(idx % 5000 == 0):\n",
    "            print(str(idx) + ' out of ' + str(len(orig_merged_table)))\n",
    "            \n",
    "        curr = orig_merged_table.iloc[idx]\n",
    "        IQ = curr['IQ']\n",
    "        pwv = curr['param35']\n",
    "        img_id = curr['img_id']\n",
    "        p_id = curr['patient_id']\n",
    "        \n",
    "        # 保留质量不为差的图片且pwv变量不为空值\n",
    "        if IQ != 2 and not np.isnan(pwv):\n",
    "            if p_id in train_p_id:\n",
    "                train_img_id.append(img_id)\n",
    "            elif p_id in val_p_id:\n",
    "                val_img_id.append(img_id)\n",
    "            elif p_id in test_p_id:\n",
    "                test_img_id.append(img_id)\n",
    "            elif np_random.rand() <= test_split_ratio:\n",
    "                # 对每张照片，若该病人符合预设的采样概率，加入test set\n",
    "                test_img_id.append(img_id)\n",
    "                test_p_id.append(p_id)\n",
    "            elif np_random.rand() <= val_split_ratio/(1 - test_split_ratio):\n",
    "                val_img_id.append(img_id)\n",
    "                val_p_id.append(p_id)\n",
    "            else:\n",
    "                train_img_id.append(img_id)\n",
    "                train_p_id.append(p_id)                  \n",
    "    return train_img_id, val_img_id, test_img_id"
   ]
  },
  {
   "cell_type": "code",
   "execution_count": null,
   "id": "2ecf697c-61ec-4d8b-b3fd-37773199f627",
   "metadata": {},
   "outputs": [],
   "source": [
    "orig_merged_table_csv = pathlib.join(root_dir, 'preprocessed_data', 'merged_table.csv')\n",
    "orig_merged_table = pd.read_csv(orig_merged_table_csv)\n",
    "print(orig_merged_table.head)\n",
    "for column in orig_merged_table.columns:\n",
    "    idx = 94188\n",
    "    print(str(column), orig_merged_table.iloc[idx][column], type(orig_merged_table.iloc[idx][column]))\n",
    "    idx = 94198\n",
    "    print(str(column), orig_merged_table.iloc[idx][column], type(orig_merged_table.iloc[idx][column]))"
   ]
  },
  {
   "cell_type": "code",
   "execution_count": null,
   "id": "d7aaa881-68f8-43b0-b88c-c35b196dd21e",
   "metadata": {},
   "outputs": [],
   "source": [
    "train_img_id, val_img_id, test_img_id = random_split(orig_merged_table)"
   ]
  },
  {
   "cell_type": "code",
   "execution_count": null,
   "id": "fcf5e6f1-e38d-4aa1-9a20-34d56e05aff1",
   "metadata": {},
   "outputs": [],
   "source": [
    "print(np.sum(orig_merged_table['IQ']!=2))\n",
    "print(len(train_img_id), len(val_img_id), len(train_img_id) + len(val_img_id))\n",
    "print(len(test_img_id))\n",
    "print(len(train_img_id) + len(val_img_id) + len(test_img_id))\n",
    "# the data amount is correct according to the previous published paper 'e001596.full.pdf'\n",
    "# the testing data amount is also consistent with previous shiyuan's result"
   ]
  },
  {
   "cell_type": "code",
   "execution_count": null,
   "id": "f1bfa897-7a69-4069-9889-8800b11523c9",
   "metadata": {},
   "outputs": [],
   "source": [
    "12943/64440.0"
   ]
  },
  {
   "cell_type": "code",
   "execution_count": null,
   "id": "45e9299d-884c-4463-b9f3-653ab3b7c29e",
   "metadata": {},
   "outputs": [],
   "source": [
    "train_table = orig_merged_table[orig_merged_table.apply(lambda x:x['img_id'] in train_img_id, axis=1)]\n",
    "val_table = orig_merged_table[orig_merged_table.apply(lambda x:x['img_id'] in val_img_id, axis=1)]\n",
    "test_table = orig_merged_table[orig_merged_table.apply(lambda x:x['img_id'] in test_img_id, axis=1)]\n",
    "print(set(train_table['img_id']) == set(train_img_id))\n",
    "print(set(val_table['img_id']) == set(val_img_id))\n",
    "print(set(test_table['img_id']) == set(test_img_id))"
   ]
  },
  {
   "cell_type": "code",
   "execution_count": null,
   "id": "321cc2ba-338f-430c-9c59-f3aa8a2cd8e2",
   "metadata": {},
   "outputs": [],
   "source": [
    "print(set(train_img_id).intersection(set(val_img_id)))\n",
    "print(set(train_img_id).intersection(set(test_img_id)))\n",
    "print(set(val_img_id).intersection(set(test_img_id)))"
   ]
  },
  {
   "cell_type": "code",
   "execution_count": null,
   "id": "459d507e-28c5-4433-bb9c-99e58fc1a3ca",
   "metadata": {},
   "outputs": [],
   "source": [
    "train_table.to_csv(pathlib.join(root_dir, 'preprocessed_data', 'train_table_orig_random.csv'), index=False)\n",
    "val_table.to_csv(pathlib.join(root_dir, 'preprocessed_data', 'val_table_orig_random.csv'), index=False)\n",
    "test_table.to_csv(pathlib.join(root_dir, 'preprocessed_data', 'test_table_orig_random.csv'), index=False)"
   ]
  },
  {
   "cell_type": "code",
   "execution_count": null,
   "id": "00401747-bf5b-4796-b189-dcf1e666a968",
   "metadata": {},
   "outputs": [],
   "source": [
    "print(np.sum(orig_merged_table['IQ']!=2))\n",
    "print(len(set(orig_merged_table[orig_merged_table['IQ']!=2]['patient_id'])))"
   ]
  },
  {
   "cell_type": "code",
   "execution_count": null,
   "id": "aac15fa3-5d47-49a6-82d1-8d09b9fdd4ee",
   "metadata": {},
   "outputs": [],
   "source": [
    "all_table = pd.concat((train_table, val_table, test_table))\n",
    "print(len(all_table))\n",
    "print(len(set(all_table['patient_id'])))"
   ]
  },
  {
   "cell_type": "code",
   "execution_count": null,
   "id": "18b852e5-d8c6-4783-bad8-042a59e64ccc",
   "metadata": {},
   "outputs": [],
   "source": [
    "trainval_table = pd.concat((train_table, val_table))\n",
    "print(len(trainval_table))\n",
    "print(len(set(trainval_table['patient_id'])))"
   ]
  },
  {
   "cell_type": "code",
   "execution_count": null,
   "id": "22f6f9b6-5310-4936-b43f-4170f2a74756",
   "metadata": {},
   "outputs": [],
   "source": [
    "print(len(test_table))\n",
    "print(len(set(test_table['patient_id'])))"
   ]
  },
  {
   "cell_type": "code",
   "execution_count": null,
   "id": "e48bf14b-b26d-450c-8079-229440557765",
   "metadata": {},
   "outputs": [],
   "source": [
    "29081/36412.0"
   ]
  },
  {
   "cell_type": "code",
   "execution_count": null,
   "id": "6cfd17e7-a303-4191-a442-0bf3c99b1d19",
   "metadata": {},
   "outputs": [],
   "source": []
  }
 ],
 "metadata": {
  "kernelspec": {
   "display_name": "Python 3 (ipykernel)",
   "language": "python",
   "name": "python3"
  },
  "language_info": {
   "codemirror_mode": {
    "name": "ipython",
    "version": 3
   },
   "file_extension": ".py",
   "mimetype": "text/x-python",
   "name": "python",
   "nbconvert_exporter": "python",
   "pygments_lexer": "ipython3",
   "version": "3.10.13"
  }
 },
 "nbformat": 4,
 "nbformat_minor": 5
}
