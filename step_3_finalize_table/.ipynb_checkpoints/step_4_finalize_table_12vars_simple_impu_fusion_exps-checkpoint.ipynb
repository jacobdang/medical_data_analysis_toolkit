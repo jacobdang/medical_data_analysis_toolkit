{
 "cells": [
  {
   "cell_type": "code",
   "execution_count": 1,
   "id": "035e0f46-720c-4c4e-a518-af42455a0e96",
   "metadata": {},
   "outputs": [],
   "source": [
    "import csv\n",
    "import pandas as pd\n",
    "import json\n",
    "import os\n",
    "import os.path as pathlib\n",
    "import numpy as np\n",
    "from copy import deepcopy\n",
    "from glob import glob\n",
    "from finalize_table_common_fun import table_one_hot_encoding\n",
    "from sklearn.impute import SimpleImputer"
   ]
  },
  {
   "cell_type": "code",
   "execution_count": 2,
   "id": "ab0f89e5-b0e7-4b9a-8463-5d96f9a7da72",
   "metadata": {},
   "outputs": [],
   "source": [
    "def do_conversion(dataset_type='random'):\n",
    "    toproot_dir = '/ssd/kangdang/mmc_project_2023_submission'\n",
    "    root_dir = pathlib.join(toproot_dir, 'main_exp_code', 'step1_preprocessing_redo')\n",
    "    output_dir = pathlib.join(root_dir, 'preprocessed_data', dataset_type + '_processed_final_csv')\n",
    "    os.makedirs(output_dir, exist_ok=True)\n",
    "    train_orig_name = pathlib.join(output_dir, 'train_table_orig_' + str(dataset_type) + '_12_vars_with_nan_intermediate_table_patient_level.csv')\n",
    "    train_table = pd.read_csv(train_orig_name)\n",
    "    val_orig_name = pathlib.join(output_dir, 'val_table_orig_' + str(dataset_type) + '_12_vars_with_nan_intermediate_table_patient_level.csv')\n",
    "    val_table = pd.read_csv(val_orig_name)\n",
    "    test_orig_name = pathlib.join(output_dir, 'test_table_orig_' + str(dataset_type) + '_12_vars_with_nan_intermediate_table_patient_level.csv')\n",
    "    test_table = pd.read_csv(test_orig_name)\n",
    "    \n",
    "    # 性别, 年龄, 舒张压, 收缩压\n",
    "    # 体质指数 BMI, 病程（月）, 您是否有明确诊断的高血压？, 您是否患有高血脂？, 您是否患有心血管疾病？\n",
    "    # 吸烟分类, 饮酒分类[non-drinker,former drinker(light or heavy),current drinker(light or heavy)]\n",
    "    numerical_vars = ['param2', 'param3', 'param4', 'param5', 'param6', 'param7']\n",
    "    categorical_vars = ['param1', 'param8', 'param9', 'param10', 'param11', 'param12']\n",
    "    numerical_imputer = SimpleImputer(missing_values=np.nan, strategy='mean')\n",
    "    numerical_imputer.fit(train_table[numerical_vars])\n",
    "    train_table[numerical_vars] = numerical_imputer.transform(train_table[numerical_vars])\n",
    "    val_table[numerical_vars] = numerical_imputer.transform(val_table[numerical_vars])\n",
    "    test_table[numerical_vars] = numerical_imputer.transform(test_table[numerical_vars])\n",
    "    \n",
    "    categorical_imputer = SimpleImputer(missing_values=np.nan, strategy='most_frequent')\n",
    "    categorical_imputer.fit(train_table[categorical_vars])\n",
    "    train_table[categorical_vars] = categorical_imputer.transform(train_table[categorical_vars])\n",
    "    val_table[categorical_vars] = categorical_imputer.transform(val_table[categorical_vars])\n",
    "    test_table[categorical_vars] = categorical_imputer.transform(test_table[categorical_vars])\n",
    "    \n",
    "    train_table_imputed = table_one_hot_encoding(train_table)\n",
    "    val_table_imputed = table_one_hot_encoding(val_table)\n",
    "    test_table_imputed = table_one_hot_encoding(test_table)\n",
    "    \n",
    "    train_table_imputed.to_csv(train_orig_name.replace('with_nan_intermediate_table', 'fusion_simple_imputed'), index=False)\n",
    "    val_table_imputed.to_csv(val_orig_name.replace('with_nan_intermediate_table', 'fusion_simple_imputed'), index=False)\n",
    "    test_table_imputed.to_csv(test_orig_name.replace('with_nan_intermediate_table', 'fusion_simple_imputed'), index=False)"
   ]
  },
  {
   "cell_type": "code",
   "execution_count": 3,
   "id": "e497ed5b-6d71-4ded-b0d0-ac17be0ea378",
   "metadata": {},
   "outputs": [],
   "source": [
    "do_conversion(dataset_type='random')"
   ]
  },
  {
   "cell_type": "code",
   "execution_count": null,
   "id": "6614b307-800c-4428-8145-d962356b1d58",
   "metadata": {},
   "outputs": [],
   "source": []
  }
 ],
 "metadata": {
  "kernelspec": {
   "display_name": "Python 3 (ipykernel)",
   "language": "python",
   "name": "python3"
  },
  "language_info": {
   "codemirror_mode": {
    "name": "ipython",
    "version": 3
   },
   "file_extension": ".py",
   "mimetype": "text/x-python",
   "name": "python",
   "nbconvert_exporter": "python",
   "pygments_lexer": "ipython3",
   "version": "3.8.16"
  }
 },
 "nbformat": 4,
 "nbformat_minor": 5
}
