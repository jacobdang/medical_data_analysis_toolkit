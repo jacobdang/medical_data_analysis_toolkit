{
 "cells": [
  {
   "cell_type": "code",
   "execution_count": null,
   "id": "6780dbee-18fe-4bb8-8c12-054a1b46619f",
   "metadata": {},
   "outputs": [],
   "source": [
    "source('ignore_test_value_multiple_imputation_refactored.R')"
   ]
  },
  {
   "cell_type": "code",
   "execution_count": null,
   "id": "33b0349c-cd0d-499c-9dda-f8b772315ca4",
   "metadata": {},
   "outputs": [],
   "source": [
    "train_file = '/ssd/kangdang/mmc_project_2023_submission/main_exp_code/step1_preprocessing_redo/preprocessed_data/random_processed_final_csv/train_table_orig_random_12_vars_with_nan_intermediate_table_patient_level.csv'\n",
    "val_file = '/ssd/kangdang/mmc_project_2023_submission/main_exp_code/step1_preprocessing_redo/preprocessed_data/random_processed_final_csv/val_table_orig_random_12_vars_with_nan_intermediate_table_patient_level.csv'\n",
    "test_file = '/ssd/kangdang/mmc_project_2023_submission/main_exp_code/step1_preprocessing_redo/preprocessed_data/random_processed_final_csv/test_table_orig_random_12_vars_with_nan_intermediate_table_patient_level.csv'\n",
    "lm_fit_summary_csv = '/ssd/kangdang/mmc_project_2023_submission/main_exp_code/step1_preprocessing_redo/preprocessed_data/mi_target/random_12_vars_mi_full_lm_fit_summary.csv'\n",
    "lm_fit_pool_summary_csv = '/ssd/kangdang/mmc_project_2023_submission/main_exp_code/step1_preprocessing_redo/preprocessed_data/mi_target/random_12_vars_mi_full_lm_fit_pool_summary.csv'\n",
    "output_dir = '/ssd/kangdang/mmc_project_2023_submission/main_exp_code/step1_preprocessing_redo/preprocessed_data/mi_target'\n",
    "model_name = '/ssd/kangdang/mmc_project_2023_submission/main_exp_code/step1_preprocessing_redo/preprocessed_data/mi_target/imputation_model.RData'\n",
    "dir.create(output_dir, recursive = TRUE)\n",
    "mice_imputation_full(train_file, val_file, test_file, lm_fit_summary_csv, lm_fit_pool_summary_csv, output_dir, model_name)"
   ]
  },
  {
   "cell_type": "code",
   "execution_count": null,
   "id": "d97ffe9b-5b4b-4fdd-b1a2-c1b645e8ea05",
   "metadata": {},
   "outputs": [],
   "source": [
    "library(mice)"
   ]
  },
  {
   "cell_type": "code",
   "execution_count": null,
   "id": "7d1dca28-756b-4a46-9c76-112e3fc6bd54",
   "metadata": {},
   "outputs": [],
   "source": [
    "sessionInfo()"
   ]
  },
  {
   "cell_type": "code",
   "execution_count": null,
   "id": "277abfe8-82d6-4cdb-9e25-2415a00073ae",
   "metadata": {},
   "outputs": [],
   "source": []
  }
 ],
 "metadata": {
  "kernelspec": {
   "display_name": "R",
   "language": "R",
   "name": "ir"
  },
  "language_info": {
   "codemirror_mode": "r",
   "file_extension": ".r",
   "mimetype": "text/x-r-source",
   "name": "R",
   "pygments_lexer": "r",
   "version": "4.2.0"
  }
 },
 "nbformat": 4,
 "nbformat_minor": 5
}
