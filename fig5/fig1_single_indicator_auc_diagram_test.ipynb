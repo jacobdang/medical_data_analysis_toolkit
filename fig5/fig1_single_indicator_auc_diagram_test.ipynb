{
 "cells": [
  {
   "cell_type": "code",
   "execution_count": 1,
   "id": "71a4dc33-5506-4848-90f9-a289dd113f7e",
   "metadata": {},
   "outputs": [
    {
     "name": "stdout",
     "output_type": "stream",
     "text": [
      "[0.7705749921531228, 0.7898181694319033]\n",
      "[0.6677000581282697, 0.6889540566959922]\n",
      "0.6779759596742924\n",
      "[0.7309417040358744, 0.7617967332123412]\n",
      "0.7459733087896916\n"
     ]
    }
   ],
   "source": [
    "import sys\n",
    "sys.path.append('/ssd/kangdang/mmc_project_2023_submission/main_exp_code/step4_exp_analysis')\n",
    "\n",
    "import pickle\n",
    "import numpy as np\n",
    "import os\n",
    "import os.path as pathlib\n",
    "from stats_fun import get_score_and_gt, get_statistic_info, cal_ci95\n",
    "import matplotlib.pyplot as plt\n",
    "base_path = '/mnt/eye_team/kangdang/mmc_project_2023_submission/exp_records/fusion_exps/random_mi_single_variable/'\n",
    "\n",
    "# image only result\n",
    "test_result_pickle = pickle.load(open('/mnt/eye_team/kangdang/mmc_project_2023_submission/exp_records/image_only_exps/top_checkpoint_ensemble_test_result.pickle', 'rb'))\n",
    "test_pred_set = test_result_pickle['pred_set']\n",
    "test_gt_set = test_result_pickle['gt_set']\n",
    "auc95_dl, fpr_dl, tpr_dl, auc_dl = get_statistic_info(test_gt_set, test_pred_set)\n",
    "print(auc95_dl)\n",
    "auc95, rec, sep, sep_90, global_auc, global_rec, global_sep, global_sep_90, _, _ = cal_ci95(test_gt_set, test_pred_set, 0.8)\n",
    "print(rec)\n",
    "print(global_rec)\n",
    "print(sep)\n",
    "print(global_sep)"
   ]
  },
  {
   "cell_type": "code",
   "execution_count": 2,
   "id": "68609713-5b8d-4215-b8fd-cdb5ecf9a2ed",
   "metadata": {},
   "outputs": [
    {
     "name": "stdout",
     "output_type": "stream",
     "text": [
      "Gender\n",
      "Age\n",
      "Diastolic Bp\n",
      "Systolic Bp\n",
      "Heart Rate\n",
      "BMI\n",
      "Course of Diabetes\n",
      "Hypertension\n",
      "Hyperlipidemia\n",
      "Cardiovascular Disease\n",
      "Classification of smoker\n",
      "Classification of drinker\n"
     ]
    }
   ],
   "source": [
    "def get_indicator_all_results():\n",
    "    indicator_id_list = [\"'1'\", \"'2'\", \"'3'\", \"'4'\", \"'5'\", \"'6'\", \"'7'\", \"'8'\", \"'9'\", \"'10'\", \"'11'\",  \"'12'\"]\n",
    "    indicator_name_list = ['Gender', 'Age', 'Diastolic Bp', 'Systolic Bp',  'Heart Rate', 'BMI', 'Course of Diabetes', 'Hypertension', 'Hyperlipidemia', 'Cardiovascular Disease', 'Classification of smoker', 'Classification of drinker']\n",
    "    result_dict = dict()\n",
    "    for indicator_id, indicator_name in zip(indicator_id_list, indicator_name_list):\n",
    "        print(indicator_name)\n",
    "        best_method_id, train_gt_list, val_gt_list, test_gt_list, train_pred_list, val_pred_list, test_pred_list = get_score_and_gt(base_path, indicator_id, method_id_list = ['method_lr_basic'])\n",
    "        auc95, fpr, tpr, auc = get_statistic_info(test_gt_list, test_pred_list)\n",
    "        result_dict[indicator_name] = [best_method_id, auc95, fpr, tpr, auc]\n",
    "    return result_dict\n",
    "\n",
    "result_dict = get_indicator_all_results()\n",
    "sort_dict = dict()\n",
    "for key, value in result_dict.items():\n",
    "    sort_dict[key] = -value[-1]\n",
    "sort_keys = sorted(sort_dict, key=sort_dict.get)"
   ]
  },
  {
   "cell_type": "code",
   "execution_count": null,
   "id": "a42321c9-aa43-4c85-92bc-75df8b5b1666",
   "metadata": {},
   "outputs": [],
   "source": [
    "import matplotlib as mpl\n",
    "my_dpi=120\n",
    "plt.figure(figsize=(960/my_dpi, 960/my_dpi), dpi=my_dpi)\n",
    "plt.style.use('seaborn-darkgrid')\n",
    "palette = plt.get_cmap('Set3')\n",
    "plt.plot(fpr_dl, tpr_dl, marker='', color='red', linewidth=6, alpha=0.7, label='Image only\\nAUC='+ \"{:.3f}\".format(auc_dl)+ '[{:.3f}'.format(auc95_dl[0]) + ',{:.3f}'.format(auc95_dl[1]) + ']')\n",
    "cmap = mpl.cm.get_cmap('PuOr')\n",
    "prespace = [12, 3, 0, 3, 3, 0, 0, 3, 6, 3, 6, 0]\n",
    "for idx, key in enumerate(sort_keys):\n",
    "    value = result_dict[key]\n",
    "    fpr = value[2]\n",
    "    tpr = value[3]\n",
    "    label = key + '\\nAUC= ' + \"{:.2f}\".format(value[4]) + '[{:.3f}'.format(value[1][0]) + ',{:.3f}'.format(value[1][1]) + ']'\n",
    "    color = cmap((idx/len(sort_keys)))\n",
    "    plt.plot(fpr,tpr, marker='', color=color, linewidth=3, alpha=0.5, label=label)\n",
    "plt.legend(prop={'size': 14})\n",
    "\n",
    "ax=plt.gca()\n",
    "ax.xaxis.label.set_fontsize(15)\n",
    "ax.yaxis.label.set_fontsize(15)\n",
    "\n",
    "plt.xlabel(\"False Positive Rate\")\n",
    "plt.ylabel(\"True Positive Rate\")\n",
    "plt.title(\"Test Set\")\n",
    "ax.legend(loc='center left', bbox_to_anchor=(1, 0.5),labelspacing=1, prop={'size': 12})\n"
   ]
  },
  {
   "cell_type": "code",
   "execution_count": null,
   "id": "f7af8881-dc24-4432-8360-e8fc423cf25f",
   "metadata": {},
   "outputs": [],
   "source": []
  }
 ],
 "metadata": {
  "kernelspec": {
   "display_name": "Python 2",
   "language": "python",
   "name": "python2"
  },
  "language_info": {
   "codemirror_mode": {
    "name": "ipython",
    "version": 3
   },
   "file_extension": ".py",
   "mimetype": "text/x-python",
   "name": "python",
   "nbconvert_exporter": "python",
   "pygments_lexer": "ipython3",
   "version": "3.8.16"
  }
 },
 "nbformat": 4,
 "nbformat_minor": 5
}
