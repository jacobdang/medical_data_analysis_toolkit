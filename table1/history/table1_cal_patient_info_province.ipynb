{
 "cells": [
  {
   "cell_type": "code",
   "execution_count": 1,
   "id": "b9bee685-a1d8-42a6-b1b0-f5eaacadc0b6",
   "metadata": {},
   "outputs": [],
   "source": [
    "# obtain average statistical values\n",
    "import pandas as pd\n",
    "import numpy as np\n",
    "import os.path as pathlib"
   ]
  },
  {
   "cell_type": "code",
   "execution_count": 2,
   "id": "f5492bcc-08b5-438b-895c-c02eb9ace2e9",
   "metadata": {},
   "outputs": [],
   "source": [
    "root_dir = '/ssd/kangdang/mmc_project_final_v6/main_exp_code/step1_preprocessing_redo'\n",
    "random_csv_list = [pathlib.join(root_dir, 'preprocessed_data', 'random_processed_final_csv', 'train_table_orig_random_12_vars_with_nan_intermediate_table_patient_level.csv'), \n",
    "                   pathlib.join(root_dir, 'preprocessed_data', 'random_processed_final_csv', 'val_table_orig_random_12_vars_with_nan_intermediate_table_patient_level.csv'),\n",
    "                   pathlib.join(root_dir, 'preprocessed_data', 'random_processed_final_csv', 'test_table_orig_random_12_vars_with_nan_intermediate_table_patient_level.csv')]"
   ]
  },
  {
   "cell_type": "code",
   "execution_count": 3,
   "id": "187928e2",
   "metadata": {},
   "outputs": [],
   "source": [
    "province_info = list(pd.read_csv(random_csv_list[0])['province']) + list(pd.read_csv(random_csv_list[1])['province']) +  list(pd.read_csv(random_csv_list[2])['province'])"
   ]
  },
  {
   "cell_type": "code",
   "execution_count": 4,
   "id": "b6438956",
   "metadata": {},
   "outputs": [
    {
     "name": "stdout",
     "output_type": "stream",
     "text": [
      "Counter({'江苏': 4417, '河南': 3674, '浙江': 3185, '上海': 2623, '湖北': 2565, '山东': 2324, '云南': 1988, '山西': 1904, '辽宁': 1592, '江西': 1563, '广东': 1433, '四川': 1420, '贵州': 1328, '黑龙江': 1120, '北京': 1044, '内蒙古': 937, '湖南': 931, '青海': 516, '甘肃': 443, '广西': 372, '陕西': 300, nan: 238, '福建': 222, '河北': 211, '重庆': 33, '天津': 25, '宁夏': 4})\n"
     ]
    }
   ],
   "source": [
    "from collections import Counter\n",
    "counted = Counter(province_info)\n",
    "print(counted)"
   ]
  },
  {
   "cell_type": "code",
   "execution_count": 5,
   "id": "b5573797-e89c-454c-b0c4-b6f918e45ed9",
   "metadata": {},
   "outputs": [
    {
     "name": "stdout",
     "output_type": "stream",
     "text": [
      "0.0    19229\n",
      "1.0     2521\n",
      "Name: param10, dtype: int64\n",
      "1.0    15224\n",
      "5.0     2290\n",
      "2.0     1515\n",
      "4.0     1326\n",
      "7.0      597\n",
      "3.0      480\n",
      "6.0      359\n",
      "Name: param11, dtype: int64\n",
      "1.0    18501\n",
      "5.0     1557\n",
      "3.0      725\n",
      "4.0      723\n",
      "2.0      276\n",
      "Name: param12, dtype: int64\n"
     ]
    }
   ],
   "source": [
    "# std/mean on 47269 patients\n",
    "# param 1 gender, male 27110, female 20159\n",
    "# param 2 age 54.29±11.60\n",
    "# param 3 舒张压 diastolic blood pressure, 77.34±11.34\n",
    "# param 4 收缩压 Systolic blood pressure, 131.40±19.06\n",
    "# param 5 heart rate \n",
    "# 80.82604745973013 -> recovered mean\n",
    "# 11.84815122304001 -> recovered std\n",
    "\n",
    "# param 6  BMI, 25.62±3.77\n",
    "# param 7 病程（月）Duration of diabetes, years 6.80±6.71\n",
    "# param 8 您是否有明确诊断的高血压？ History of hypertension 16 266 (39.8)\n",
    "# param 9 您是否患有高血脂？ History of dyslipidemia 11 361 (27.9)\n",
    "# param 10 您是否患有心血管疾病？ \n",
    "# param 11 吸烟分类\n",
    "# param 12 饮酒分类 [non-drinker,former drinker(light or heavy),current drinker(light or heavy)]\n",
    "# HbA1c,% 9.06±2.27\n",
    "\n",
    "random_train_csv = pd.read_csv(random_csv_list[0])\n",
    "print(random_train_csv['param10'].value_counts())\n",
    "print(random_train_csv['param11'].value_counts())\n",
    "print(random_train_csv['param12'].value_counts())\n",
    "\n",
    "param_transfer_dict = dict()\n",
    "param_transfer_dict['param2'] = [54.29, 11.60]\n",
    "param_transfer_dict['param3'] = [77.34, 11.34]\n",
    "param_transfer_dict['param4'] = [131.40, 19.06]\n",
    "param_transfer_dict['param5'] = [80.826, 11.848]\n",
    "param_transfer_dict['param6'] = [25.62, 3.77]\n",
    "param_transfer_dict['param7'] = [6.80, 6.71]\n",
    "param_transfer_dict['param35'] = [1634.14, 349.12]"
   ]
  },
  {
   "cell_type": "code",
   "execution_count": 10,
   "id": "df001052-a8fb-4067-9eea-8ea199afa462",
   "metadata": {},
   "outputs": [],
   "source": [
    "def modify_helper2(array, th):\n",
    "    array_pos = array >= th\n",
    "    array_neg = array <th\n",
    "    array[array_pos] = 1\n",
    "    array[array_neg] = 0\n",
    "    return array\n",
    "\n",
    "def get_dataset_stats(csv_file_list):\n",
    "    csv_list = list()\n",
    "    for csv_file in csv_file_list:\n",
    "        curr_csv = pd.read_csv(csv_file)\n",
    "        csv_list.append(curr_csv)\n",
    "    curr_csv = pd.concat(csv_list)\n",
    "\n",
    "    for idx in list(range(12)) + [34]:\n",
    "        if idx == 10: # smoking\n",
    "            curr_csv['param11'] = modify_helper2(curr_csv['param11'], 2)\n",
    "        if idx == 11: # drinking\n",
    "            curr_csv['param12'] = modify_helper2(curr_csv['param12'], 2)\n",
    "        param_str = 'param' + str(idx + 1)\n",
    "        print(param_str)\n",
    "        if param_str not in param_transfer_dict.keys():\n",
    "            print(curr_csv[param_str].value_counts())\n",
    "            print(curr_csv[param_str].value_counts(normalize=True))\n",
    "            missing_value_no = int(np.sum(curr_csv[param_str].isnull()))\n",
    "            print('missing: ' + str(missing_value_no) + ', perc=' + str(round(float(missing_value_no/len(curr_csv)),3)))\n",
    "        else:\n",
    "            curr_param_values = np.array(list(curr_csv[param_str]))\n",
    "            curr_mean, curr_std = param_transfer_dict[param_str]\n",
    "            curr_param_values = curr_param_values * curr_std + curr_mean\n",
    "            print('mean is : ' + str(round(np.nanmean(curr_param_values), 2)) + ', std is : ' + str(round(np.nanstd(curr_param_values), 2)))\n",
    "            missing_value_no = int(np.sum(curr_csv[param_str].isnull()))\n",
    "            print('missing: ' + str(missing_value_no) + ', perc=' + str(round(float(missing_value_no/len(curr_csv)),3)))"
   ]
  },
  {
   "cell_type": "code",
   "execution_count": 11,
   "id": "a0c78781-aedf-4854-873e-1a7c2676e165",
   "metadata": {},
   "outputs": [
    {
     "name": "stdout",
     "output_type": "stream",
     "text": [
      "param1\n",
      "1    17428\n",
      "2    12350\n",
      "Name: param1, dtype: int64\n",
      "1    0.585264\n",
      "2    0.414736\n",
      "Name: param1, dtype: float64\n",
      "missing: 0, perc=0.0\n",
      "param2\n",
      "mean is : 53.23, std is : 11.21\n",
      "missing: 0, perc=0.0\n",
      "param3\n",
      "mean is : 77.52, std is : 11.32\n",
      "missing: 757, perc=0.025\n",
      "param4\n",
      "mean is : 130.81, std is : 18.81\n",
      "missing: 754, perc=0.025\n",
      "param5\n",
      "mean is : 80.82, std is : 11.79\n",
      "missing: 772, perc=0.026\n",
      "param6\n",
      "mean is : 25.65, std is : 3.77\n",
      "missing: 237, perc=0.008\n",
      "param7\n",
      "mean is : 6.4, std is : 6.45\n",
      "missing: 4146, perc=0.139\n",
      "param8\n",
      "0.0    16302\n",
      "1.0    10258\n",
      "Name: param8, dtype: int64\n",
      "0.0    0.61378\n",
      "1.0    0.38622\n",
      "Name: param8, dtype: float64\n",
      "missing: 3218, perc=0.108\n",
      "param9\n",
      "0.0    19124\n",
      "1.0     7408\n",
      "Name: param9, dtype: int64\n",
      "0.0    0.72079\n",
      "1.0    0.27921\n",
      "Name: param9, dtype: float64\n",
      "missing: 3246, perc=0.109\n",
      "param10\n",
      "0.0    23393\n",
      "1.0     3047\n",
      "Name: param10, dtype: int64\n",
      "0.0    0.884758\n",
      "1.0    0.115242\n",
      "Name: param10, dtype: float64\n",
      "missing: 3338, perc=0.112\n",
      "param11\n",
      "0.0    18498\n",
      "1.0     8003\n",
      "Name: param11, dtype: int64\n",
      "0.0    0.698011\n",
      "1.0    0.301989\n",
      "Name: param11, dtype: float64\n",
      "missing: 3277, perc=0.11\n",
      "param12\n",
      "0.0    22471\n",
      "1.0     4019\n",
      "Name: param12, dtype: int64\n",
      "0.0    0.848282\n",
      "1.0    0.151718\n",
      "Name: param12, dtype: float64\n",
      "missing: 3288, perc=0.11\n",
      "param35\n",
      "mean is : 1611.07, std is : 341.74\n",
      "missing: 0, perc=0.0\n"
     ]
    },
    {
     "name": "stderr",
     "output_type": "stream",
     "text": [
      "/tmp/ipykernel_2562982/68277189.py:4: SettingWithCopyWarning: \n",
      "A value is trying to be set on a copy of a slice from a DataFrame\n",
      "\n",
      "See the caveats in the documentation: https://pandas.pydata.org/pandas-docs/stable/user_guide/indexing.html#returning-a-view-versus-a-copy\n",
      "  array[array_pos] = 1\n",
      "/tmp/ipykernel_2562982/68277189.py:5: SettingWithCopyWarning: \n",
      "A value is trying to be set on a copy of a slice from a DataFrame\n",
      "\n",
      "See the caveats in the documentation: https://pandas.pydata.org/pandas-docs/stable/user_guide/indexing.html#returning-a-view-versus-a-copy\n",
      "  array[array_neg] = 0\n",
      "/tmp/ipykernel_2562982/68277189.py:4: SettingWithCopyWarning: \n",
      "A value is trying to be set on a copy of a slice from a DataFrame\n",
      "\n",
      "See the caveats in the documentation: https://pandas.pydata.org/pandas-docs/stable/user_guide/indexing.html#returning-a-view-versus-a-copy\n",
      "  array[array_pos] = 1\n",
      "/tmp/ipykernel_2562982/68277189.py:5: SettingWithCopyWarning: \n",
      "A value is trying to be set on a copy of a slice from a DataFrame\n",
      "\n",
      "See the caveats in the documentation: https://pandas.pydata.org/pandas-docs/stable/user_guide/indexing.html#returning-a-view-versus-a-copy\n",
      "  array[array_neg] = 0\n"
     ]
    }
   ],
   "source": [
    "# random train + val\n",
    "get_dataset_stats([random_csv_list[0], random_csv_list[1]])"
   ]
  },
  {
   "cell_type": "code",
   "execution_count": 13,
   "id": "bb73bbef-bcf5-478d-b057-f7f6aad5546c",
   "metadata": {},
   "outputs": [
    {
     "name": "stdout",
     "output_type": "stream",
     "text": [
      "param1\n",
      "1    3934\n",
      "2    2700\n",
      "Name: param1, dtype: int64\n",
      "1    0.593006\n",
      "2    0.406994\n",
      "Name: param1, dtype: float64\n",
      "missing: 0, perc=0.0\n",
      "param2\n",
      "mean is : 53.38, std is : 11.34\n",
      "missing: 0, perc=0.0\n",
      "param3\n",
      "mean is : 77.53, std is : 11.12\n",
      "missing: 162, perc=0.024\n",
      "param4\n",
      "mean is : 130.82, std is : 18.42\n",
      "missing: 162, perc=0.024\n",
      "param5\n",
      "mean is : 80.71, std is : 11.54\n",
      "missing: 165, perc=0.025\n",
      "param6\n",
      "mean is : 25.66, std is : 3.75\n",
      "missing: 49, perc=0.007\n",
      "param7\n",
      "mean is : 6.59, std is : 6.57\n",
      "missing: 889, perc=0.134\n",
      "param8\n",
      "0.0    3673\n",
      "1.0    2285\n",
      "Name: param8, dtype: int64\n",
      "0.0    0.616482\n",
      "1.0    0.383518\n",
      "Name: param8, dtype: float64\n",
      "missing: 676, perc=0.102\n",
      "param9\n",
      "0.0    4333\n",
      "1.0    1620\n",
      "Name: param9, dtype: int64\n",
      "0.0    0.727868\n",
      "1.0    0.272132\n",
      "Name: param9, dtype: float64\n",
      "missing: 681, perc=0.103\n",
      "param10\n",
      "0.0    5247\n",
      "1.0     688\n",
      "Name: param10, dtype: int64\n",
      "0.0    0.884078\n",
      "1.0    0.115922\n",
      "Name: param10, dtype: float64\n",
      "missing: 699, perc=0.105\n",
      "param11\n",
      "0.0    4108\n",
      "1.0    1852\n",
      "Name: param11, dtype: int64\n",
      "0.0    0.689262\n",
      "1.0    0.310738\n",
      "Name: param11, dtype: float64\n",
      "missing: 674, perc=0.102\n",
      "param12\n",
      "0.0    5028\n",
      "1.0     934\n",
      "Name: param12, dtype: int64\n",
      "0.0    0.843341\n",
      "1.0    0.156659\n",
      "Name: param12, dtype: float64\n",
      "missing: 672, perc=0.101\n",
      "param35\n",
      "mean is : 1615.71, std is : 343.8\n",
      "missing: 0, perc=0.0\n"
     ]
    },
    {
     "name": "stderr",
     "output_type": "stream",
     "text": [
      "/tmp/ipykernel_2562982/68277189.py:4: SettingWithCopyWarning: \n",
      "A value is trying to be set on a copy of a slice from a DataFrame\n",
      "\n",
      "See the caveats in the documentation: https://pandas.pydata.org/pandas-docs/stable/user_guide/indexing.html#returning-a-view-versus-a-copy\n",
      "  array[array_pos] = 1\n",
      "/tmp/ipykernel_2562982/68277189.py:5: SettingWithCopyWarning: \n",
      "A value is trying to be set on a copy of a slice from a DataFrame\n",
      "\n",
      "See the caveats in the documentation: https://pandas.pydata.org/pandas-docs/stable/user_guide/indexing.html#returning-a-view-versus-a-copy\n",
      "  array[array_neg] = 0\n",
      "/tmp/ipykernel_2562982/68277189.py:4: SettingWithCopyWarning: \n",
      "A value is trying to be set on a copy of a slice from a DataFrame\n",
      "\n",
      "See the caveats in the documentation: https://pandas.pydata.org/pandas-docs/stable/user_guide/indexing.html#returning-a-view-versus-a-copy\n",
      "  array[array_pos] = 1\n",
      "/tmp/ipykernel_2562982/68277189.py:5: SettingWithCopyWarning: \n",
      "A value is trying to be set on a copy of a slice from a DataFrame\n",
      "\n",
      "See the caveats in the documentation: https://pandas.pydata.org/pandas-docs/stable/user_guide/indexing.html#returning-a-view-versus-a-copy\n",
      "  array[array_neg] = 0\n"
     ]
    }
   ],
   "source": [
    "# random test\n",
    "get_dataset_stats([random_csv_list[2]])"
   ]
  },
  {
   "cell_type": "code",
   "execution_count": 9,
   "id": "1c52c79a-3be0-4d53-840a-e75f95cff6ad",
   "metadata": {},
   "outputs": [
    {
     "ename": "NameError",
     "evalue": "name 'region_csv_list' is not defined",
     "output_type": "error",
     "traceback": [
      "\u001b[0;31m---------------------------------------------------------------------------\u001b[0m",
      "\u001b[0;31mNameError\u001b[0m                                 Traceback (most recent call last)",
      "Input \u001b[0;32mIn [9]\u001b[0m, in \u001b[0;36m<cell line: 2>\u001b[0;34m()\u001b[0m\n\u001b[1;32m      1\u001b[0m \u001b[38;5;66;03m# region train + val\u001b[39;00m\n\u001b[0;32m----> 2\u001b[0m get_dataset_stats([\u001b[43mregion_csv_list\u001b[49m[\u001b[38;5;241m0\u001b[39m], region_csv_list[\u001b[38;5;241m1\u001b[39m]])\n",
      "\u001b[0;31mNameError\u001b[0m: name 'region_csv_list' is not defined"
     ]
    }
   ],
   "source": [
    "# region train + val\n",
    "get_dataset_stats([region_csv_list[0], region_csv_list[1]])"
   ]
  },
  {
   "cell_type": "code",
   "execution_count": null,
   "id": "5446167a-5677-4b63-a34e-7768c566e1a5",
   "metadata": {},
   "outputs": [],
   "source": [
    "# region test\n",
    "get_dataset_stats([region_csv_list[2]])"
   ]
  },
  {
   "cell_type": "code",
   "execution_count": null,
   "id": "fcc3fac5-b759-46f9-ba2e-c0889b4b2599",
   "metadata": {},
   "outputs": [],
   "source": [
    "# for pwv>=1400 \n",
    "csv_file_list = [random_csv_list[0], random_csv_list[1]]\n",
    "csv_list = list()\n",
    "for csv_file in csv_file_list:\n",
    "    curr_csv = pd.read_csv(csv_file)\n",
    "    csv_list.append(curr_csv)\n",
    "curr_csv = pd.concat(csv_list)\n",
    "param_str = 'param35'\n",
    "curr_param_values = np.array(list(curr_csv[param_str]))\n",
    "curr_mean, curr_std = param_transfer_dict[param_str]\n",
    "curr_param_values = curr_param_values * curr_std + curr_mean\n",
    "print('mean is : ' + str(round(np.nanmean(curr_param_values), 2)) + ', std is : ' + str(round(np.nanstd(curr_param_values), 2)))\n",
    "param_str = 'pwv_positive'\n",
    "curr_csv[param_str] = curr_param_values>=1400\n",
    "print(curr_csv[param_str].value_counts())\n",
    "print(curr_csv[param_str].value_counts(normalize=True))"
   ]
  },
  {
   "cell_type": "code",
   "execution_count": null,
   "id": "353fa94e-80e5-433b-801f-cdf6cd810d11",
   "metadata": {},
   "outputs": [],
   "source": [
    "# for pwv>=1400 \n",
    "csv_file_list = [random_csv_list[2]]\n",
    "csv_list = list()\n",
    "for csv_file in csv_file_list:\n",
    "    curr_csv = pd.read_csv(csv_file)\n",
    "    csv_list.append(curr_csv)\n",
    "curr_csv = pd.concat(csv_list)\n",
    "param_str = 'param35'\n",
    "curr_param_values = np.array(list(curr_csv[param_str]))\n",
    "curr_mean, curr_std = param_transfer_dict[param_str]\n",
    "curr_param_values = curr_param_values * curr_std + curr_mean\n",
    "print('mean is : ' + str(round(np.nanmean(curr_param_values), 2)) + ', std is : ' + str(round(np.nanstd(curr_param_values), 2)))\n",
    "param_str = 'pwv_positive'\n",
    "curr_csv[param_str] = curr_param_values>=1400\n",
    "print(curr_csv[param_str].value_counts())\n",
    "print(curr_csv[param_str].value_counts(normalize=True))"
   ]
  }
 ],
 "metadata": {
  "kernelspec": {
   "display_name": "Python 3 (ipykernel)",
   "language": "python",
   "name": "python3"
  },
  "language_info": {
   "codemirror_mode": {
    "name": "ipython",
    "version": 3
   },
   "file_extension": ".py",
   "mimetype": "text/x-python",
   "name": "python",
   "nbconvert_exporter": "python",
   "pygments_lexer": "ipython3",
   "version": "3.8.16"
  }
 },
 "nbformat": 4,
 "nbformat_minor": 5
}
