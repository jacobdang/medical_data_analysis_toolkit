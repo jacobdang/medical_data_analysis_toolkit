{
 "cells": [
  {
   "cell_type": "code",
   "execution_count": 1,
   "id": "6780dbee-18fe-4bb8-8c12-054a1b46619f",
   "metadata": {},
   "outputs": [
    {
     "name": "stderr",
     "output_type": "stream",
     "text": [
      "\n",
      "Attaching package: ‘mice’\n",
      "\n",
      "\n",
      "The following object is masked from ‘package:stats’:\n",
      "\n",
      "    filter\n",
      "\n",
      "\n",
      "The following objects are masked from ‘package:base’:\n",
      "\n",
      "    cbind, rbind\n",
      "\n",
      "\n"
     ]
    }
   ],
   "source": [
    "source('ignore_test_value_multiple_imputation_refactored.R')"
   ]
  },
  {
   "cell_type": "code",
   "execution_count": 2,
   "id": "33b0349c-cd0d-499c-9dda-f8b772315ca4",
   "metadata": {},
   "outputs": [
    {
     "name": "stderr",
     "output_type": "stream",
     "text": [
      "Warning message in dir.create(output_dir, recursive = TRUE):\n",
      "“'/ssd/kangdang/mmc_project_2023_submission/main_exp_code/step1_preprocessing_redo/preprocessed_data/mi_target' already exists”\n",
      "Warning message in .S3methods(generic.function, class, envir):\n",
      "“function 'mice' appears not to be S3 generic; found functions that look like S3 methods”\n"
     ]
    },
    {
     "name": "stdout",
     "output_type": "stream",
     "text": [
      "\n",
      " iter imp variable\n",
      "  1   1  param3  param4  param5  param6  param7  param8  param9  param10  param11  param12\n",
      "  1   2  param3  param4  param5  param6  param7  param8  param9  param10  param11  param12\n",
      "  1   3  param3  param4  param5  param6  param7  param8  param9  param10  param11  param12\n",
      "  1   4  param3  param4  param5  param6  param7  param8  param9  param10  param11  param12\n",
      "  1   5  param3  param4  param5  param6  param7  param8  param9  param10  param11  param12\n",
      "  1   6  param3  param4  param5  param6  param7  param8  param9  param10  param11  param12\n",
      "  1   7  param3  param4  param5  param6  param7  param8  param9  param10  param11  param12\n",
      "  1   8  param3  param4  param5  param6  param7  param8  param9  param10  param11  param12\n",
      "  1   9  param3  param4  param5  param6  param7  param8  param9  param10  param11  param12\n",
      "  1   10  param3  param4  param5  param6  param7  param8  param9  param10  param11  param12\n",
      "  1   11  param3  param4  param5  param6  param7  param8  param9  param10  param11  param12\n",
      "  1   12  param3  param4  param5  param6  param7  param8  param9  param10  param11  param12\n",
      "  1   13  param3  param4  param5  param6  param7  param8  param9  param10  param11  param12\n",
      "  1   14  param3  param4  param5  param6  param7  param8  param9  param10  param11  param12\n",
      "  1   15  param3  param4  param5  param6  param7  param8  param9  param10  param11  param12\n",
      "  1   16  param3  param4  param5  param6  param7  param8  param9  param10  param11  param12\n",
      "  1   17  param3  param4  param5  param6  param7  param8  param9  param10  param11  param12\n",
      "  1   18  param3  param4  param5  param6  param7  param8  param9  param10  param11  param12\n",
      "  1   19  param3  param4  param5  param6  param7  param8  param9  param10  param11  param12\n",
      "  1   20  param3  param4  param5  param6  param7  param8  param9  param10  param11  param12\n",
      "  2   1  param3  param4  param5  param6  param7  param8  param9  param10  param11  param12\n",
      "  2   2  param3  param4  param5  param6  param7  param8  param9  param10  param11  param12\n",
      "  2   3  param3  param4  param5  param6  param7  param8  param9  param10  param11  param12\n",
      "  2   4  param3  param4  param5  param6  param7  param8  param9  param10  param11  param12\n",
      "  2   5  param3  param4  param5  param6  param7  param8  param9  param10  param11  param12\n",
      "  2   6  param3  param4  param5  param6  param7  param8  param9  param10  param11  param12\n",
      "  2   7  param3  param4  param5  param6  param7  param8  param9  param10  param11  param12\n",
      "  2   8  param3  param4  param5  param6  param7  param8  param9  param10  param11  param12\n",
      "  2   9  param3  param4  param5  param6  param7  param8  param9  param10  param11  param12\n",
      "  2   10  param3  param4  param5  param6  param7  param8  param9  param10  param11  param12\n",
      "  2   11  param3  param4  param5  param6  param7  param8  param9  param10  param11  param12\n",
      "  2   12  param3  param4  param5  param6  param7  param8  param9  param10  param11  param12\n",
      "  2   13  param3  param4  param5  param6  param7  param8  param9  param10  param11  param12\n",
      "  2   14  param3  param4  param5  param6  param7  param8  param9  param10  param11  param12\n",
      "  2   15  param3  param4  param5  param6  param7  param8  param9  param10  param11  param12\n",
      "  2   16  param3  param4  param5  param6  param7  param8  param9  param10  param11  param12\n",
      "  2   17  param3  param4  param5  param6  param7  param8  param9  param10  param11  param12\n",
      "  2   18  param3  param4  param5  param6  param7  param8  param9  param10  param11  param12\n",
      "  2   19  param3  param4  param5  param6  param7  param8  param9  param10  param11  param12\n",
      "  2   20  param3  param4  param5  param6  param7  param8  param9  param10  param11  param12\n",
      "  3   1  param3  param4  param5  param6  param7  param8  param9  param10  param11  param12\n",
      "  3   2  param3  param4  param5  param6  param7  param8  param9  param10  param11  param12\n",
      "  3   3  param3  param4  param5  param6  param7  param8  param9  param10  param11  param12\n",
      "  3   4  param3  param4  param5  param6  param7  param8  param9  param10  param11  param12\n",
      "  3   5  param3  param4  param5  param6  param7  param8  param9  param10  param11  param12\n",
      "  3   6  param3  param4  param5  param6  param7  param8  param9  param10  param11  param12\n",
      "  3   7  param3  param4  param5  param6  param7  param8  param9  param10  param11  param12\n",
      "  3   8  param3  param4  param5  param6  param7  param8  param9  param10  param11  param12\n",
      "  3   9  param3  param4  param5  param6  param7  param8  param9  param10  param11  param12\n",
      "  3   10  param3  param4  param5  param6  param7  param8  param9  param10  param11  param12\n",
      "  3   11  param3  param4  param5  param6  param7  param8  param9  param10  param11  param12\n",
      "  3   12  param3  param4  param5  param6  param7  param8  param9  param10  param11  param12\n",
      "  3   13  param3  param4  param5  param6  param7  param8  param9  param10  param11  param12\n",
      "  3   14  param3  param4  param5  param6  param7  param8  param9  param10  param11  param12\n",
      "  3   15  param3  param4  param5  param6  param7  param8  param9  param10  param11  param12\n",
      "  3   16  param3  param4  param5  param6  param7  param8  param9  param10  param11  param12\n",
      "  3   17  param3  param4  param5  param6  param7  param8  param9  param10  param11  param12\n",
      "  3   18  param3  param4  param5  param6  param7  param8  param9  param10  param11  param12\n",
      "  3   19  param3  param4  param5  param6  param7  param8  param9  param10  param11  param12\n",
      "  3   20  param3  param4  param5  param6  param7  param8  param9  param10  param11  param12\n",
      "  4   1  param3  param4  param5  param6  param7  param8  param9  param10  param11  param12\n",
      "  4   2  param3  param4  param5  param6  param7  param8  param9  param10  param11  param12\n",
      "  4   3  param3  param4  param5  param6  param7  param8  param9  param10  param11  param12\n",
      "  4   4  param3  param4  param5  param6  param7  param8  param9  param10  param11  param12\n",
      "  4   5  param3  param4  param5  param6  param7  param8  param9  param10  param11  param12\n",
      "  4   6  param3  param4  param5  param6  param7  param8  param9  param10  param11  param12\n",
      "  4   7  param3  param4  param5  param6  param7  param8  param9  param10  param11  param12\n",
      "  4   8  param3  param4  param5  param6  param7  param8  param9  param10  param11  param12\n",
      "  4   9  param3  param4  param5  param6  param7  param8  param9  param10  param11  param12\n",
      "  4   10  param3  param4  param5  param6  param7  param8  param9  param10  param11  param12\n",
      "  4   11  param3  param4  param5  param6  param7  param8  param9  param10  param11  param12\n",
      "  4   12  param3  param4  param5  param6  param7  param8  param9  param10  param11  param12\n",
      "  4   13  param3  param4  param5  param6  param7  param8  param9  param10  param11  param12\n",
      "  4   14  param3  param4  param5  param6  param7  param8  param9  param10  param11  param12\n",
      "  4   15  param3  param4  param5  param6  param7  param8  param9  param10  param11  param12\n",
      "  4   16  param3  param4  param5  param6  param7  param8  param9  param10  param11  param12\n",
      "  4   17  param3  param4  param5  param6  param7  param8  param9  param10  param11  param12\n",
      "  4   18  param3  param4  param5  param6  param7  param8  param9  param10  param11  param12\n",
      "  4   19  param3  param4  param5  param6  param7  param8  param9  param10  param11  param12\n",
      "  4   20  param3  param4  param5  param6  param7  param8  param9  param10  param11  param12\n",
      "  5   1  param3  param4  param5  param6  param7  param8  param9  param10  param11  param12\n",
      "  5   2  param3  param4  param5  param6  param7  param8  param9  param10  param11  param12\n",
      "  5   3  param3  param4  param5  param6  param7  param8  param9  param10  param11  param12\n",
      "  5   4  param3  param4  param5  param6  param7  param8  param9  param10  param11  param12\n",
      "  5   5  param3  param4  param5  param6  param7  param8  param9  param10  param11  param12\n",
      "  5   6  param3  param4  param5  param6  param7  param8  param9  param10  param11  param12\n",
      "  5   7  param3  param4  param5  param6  param7  param8  param9  param10  param11  param12\n",
      "  5   8  param3  param4  param5  param6  param7  param8  param9  param10  param11  param12\n",
      "  5   9  param3  param4  param5  param6  param7  param8  param9  param10  param11  param12\n",
      "  5   10  param3  param4  param5  param6  param7  param8  param9  param10  param11  param12\n",
      "  5   11  param3  param4  param5  param6  param7  param8  param9  param10  param11  param12\n",
      "  5   12  param3  param4  param5  param6  param7  param8  param9  param10  param11  param12\n",
      "  5   13  param3  param4  param5  param6  param7  param8  param9  param10  param11  param12\n",
      "  5   14  param3  param4  param5  param6  param7  param8  param9  param10  param11  param12\n",
      "  5   15  param3  param4  param5  param6  param7  param8  param9  param10  param11  param12\n",
      "  5   16  param3  param4  param5  param6  param7  param8  param9  param10  param11  param12\n",
      "  5   17  param3  param4  param5  param6  param7  param8  param9  param10  param11  param12\n",
      "  5   18  param3  param4  param5  param6  param7  param8  param9  param10  param11  param12\n",
      "  5   19  param3  param4  param5  param6  param7  param8  param9  param10  param11  param12\n",
      "  5   20  param3  param4  param5  param6  param7  param8  param9  param10  param11  param12\n"
     ]
    }
   ],
   "source": [
    "train_file = '/ssd/kangdang/mmc_project_2023_submission/main_exp_code/step1_preprocessing_redo/preprocessed_data/random_processed_final_csv/train_table_orig_random_12_vars_with_nan_intermediate_table_patient_level.csv'\n",
    "val_file = '/ssd/kangdang/mmc_project_2023_submission/main_exp_code/step1_preprocessing_redo/preprocessed_data/random_processed_final_csv/val_table_orig_random_12_vars_with_nan_intermediate_table_patient_level.csv'\n",
    "test_file = '/ssd/kangdang/mmc_project_2023_submission/main_exp_code/step1_preprocessing_redo/preprocessed_data/random_processed_final_csv/test_table_orig_random_12_vars_with_nan_intermediate_table_patient_level.csv'\n",
    "lm_fit_summary_csv = '/ssd/kangdang/mmc_project_2023_submission/main_exp_code/step1_preprocessing_redo/preprocessed_data/mi_target/random_12_vars_mi_full_lm_fit_summary.csv'\n",
    "lm_fit_pool_summary_csv = '/ssd/kangdang/mmc_project_2023_submission/main_exp_code/step1_preprocessing_redo/preprocessed_data/mi_target/random_12_vars_mi_full_lm_fit_pool_summary.csv'\n",
    "output_dir = '/ssd/kangdang/mmc_project_2023_submission/main_exp_code/step1_preprocessing_redo/preprocessed_data/mi_target'\n",
    "model_name = '/ssd/kangdang/mmc_project_2023_submission/main_exp_code/step1_preprocessing_redo/preprocessed_data/mi_target/imputation_model.RData'\n",
    "dir.create(output_dir, recursive = TRUE)\n",
    "mice_imputation_full(train_file, val_file, test_file, lm_fit_summary_csv, lm_fit_pool_summary_csv, output_dir, model_name)"
   ]
  },
  {
   "cell_type": "code",
   "execution_count": 3,
   "id": "d97ffe9b-5b4b-4fdd-b1a2-c1b645e8ea05",
   "metadata": {},
   "outputs": [],
   "source": [
    "library(mice)"
   ]
  },
  {
   "cell_type": "code",
   "execution_count": 4,
   "id": "7d1dca28-756b-4a46-9c76-112e3fc6bd54",
   "metadata": {},
   "outputs": [
    {
     "data": {
      "text/plain": [
       "R version 4.2.0 (2022-04-22)\n",
       "Platform: x86_64-pc-linux-gnu (64-bit)\n",
       "Running under: Ubuntu 20.04.6 LTS\n",
       "\n",
       "Matrix products: default\n",
       "BLAS:   /usr/lib/x86_64-linux-gnu/blas/libblas.so.3.9.0\n",
       "LAPACK: /usr/lib/x86_64-linux-gnu/lapack/liblapack.so.3.9.0\n",
       "\n",
       "locale:\n",
       " [1] LC_CTYPE=en_US.UTF-8       LC_NUMERIC=C              \n",
       " [3] LC_TIME=zh_CN.UTF-8        LC_COLLATE=en_US.UTF-8    \n",
       " [5] LC_MONETARY=zh_CN.UTF-8    LC_MESSAGES=en_US.UTF-8   \n",
       " [7] LC_PAPER=zh_CN.UTF-8       LC_NAME=C                 \n",
       " [9] LC_ADDRESS=C               LC_TELEPHONE=C            \n",
       "[11] LC_MEASUREMENT=zh_CN.UTF-8 LC_IDENTIFICATION=C       \n",
       "\n",
       "attached base packages:\n",
       "[1] stats     graphics  grDevices utils     datasets  methods   base     \n",
       "\n",
       "other attached packages:\n",
       "[1] stringr_1.4.0 mice_3.14.0  \n",
       "\n",
       "loaded via a namespace (and not attached):\n",
       " [1] Rcpp_1.0.8.3     pillar_1.7.0     compiler_4.2.0   base64enc_0.1-3 \n",
       " [5] tools_4.2.0      digest_0.6.29    uuid_1.1-0       jsonlite_1.8.0  \n",
       " [9] evaluate_0.15    lifecycle_1.0.1  tibble_3.1.7     lattice_0.20-45 \n",
       "[13] pkgconfig_2.0.3  rlang_1.0.6      IRdisplay_1.1    cli_3.4.1       \n",
       "[17] IRkernel_1.3     fastmap_1.1.0    repr_1.1.4       withr_2.5.0     \n",
       "[21] dplyr_1.0.9      generics_0.1.2   vctrs_0.4.1      nnet_7.3-17     \n",
       "[25] grid_4.2.0       tidyselect_1.1.2 glue_1.6.2       R6_2.5.1        \n",
       "[29] fansi_1.0.3      pbdZMQ_0.3-7     purrr_0.3.4      tidyr_1.2.0     \n",
       "[33] magrittr_2.0.3   backports_1.4.1  ellipsis_0.3.2   htmltools_0.5.2 \n",
       "[37] utf8_1.2.2       stringi_1.7.6    broom_1.0.0      crayon_1.5.1    "
      ]
     },
     "metadata": {},
     "output_type": "display_data"
    }
   ],
   "source": [
    "sessionInfo()"
   ]
  },
  {
   "cell_type": "code",
   "execution_count": null,
   "id": "277abfe8-82d6-4cdb-9e25-2415a00073ae",
   "metadata": {},
   "outputs": [],
   "source": []
  }
 ],
 "metadata": {
  "kernelspec": {
   "display_name": "R",
   "language": "R",
   "name": "ir"
  },
  "language_info": {
   "codemirror_mode": "r",
   "file_extension": ".r",
   "mimetype": "text/x-r-source",
   "name": "R",
   "pygments_lexer": "r",
   "version": "4.2.0"
  }
 },
 "nbformat": 4,
 "nbformat_minor": 5
}
