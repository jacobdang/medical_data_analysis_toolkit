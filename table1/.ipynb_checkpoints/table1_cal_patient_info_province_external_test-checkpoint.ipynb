{
 "cells": [
  {
   "cell_type": "code",
   "execution_count": null,
   "id": "b9bee685-a1d8-42a6-b1b0-f5eaacadc0b6",
   "metadata": {},
   "outputs": [],
   "source": [
    "# obtain average statistical values\n",
    "import pandas as pd\n",
    "import numpy as np\n",
    "import os.path as pathlib"
   ]
  },
  {
   "cell_type": "code",
   "execution_count": null,
   "id": "f5492bcc-08b5-438b-895c-c02eb9ace2e9",
   "metadata": {},
   "outputs": [],
   "source": [
    "external_test = '/ssd/kangdang/mmc_project_2023_submission/external_test_code/fusion/external_test_fusion_data_after_iq_processed_fixed.csv'\n",
    "external_test = pd.read_csv(external_test)\n",
    "param_set = set(['param2', 'param3', 'param4', 'param5', 'param6', 'param7', 'param35'])"
   ]
  },
  {
   "cell_type": "code",
   "execution_count": null,
   "id": "df001052-a8fb-4067-9eea-8ea199afa462",
   "metadata": {},
   "outputs": [],
   "source": [
    "param_transfer_dict = dict()\n",
    "param_transfer_dict['param2'] = [54.29, 11.60]\n",
    "param_transfer_dict['param3'] = [77.34, 11.34]\n",
    "param_transfer_dict['param4'] = [131.40, 19.06]\n",
    "param_transfer_dict['param5'] = [80.826, 11.848]\n",
    "param_transfer_dict['param6'] = [25.62, 3.77]\n",
    "param_transfer_dict['param7'] = [6.80, 6.71]\n",
    "param_transfer_dict['param35'] = [0.0, 1.0]\n",
    "\n",
    "def get_dataset_stats(curr_csv):\n",
    "    param_str = 'param35'\n",
    "    curr_param_values = np.array(list(curr_csv[param_str]))\n",
    "    curr_mean, curr_std = param_transfer_dict[param_str]\n",
    "    curr_param_values = curr_param_values * curr_std + curr_mean\n",
    "    param_str = 'param99'\n",
    "    curr_csv[param_str] = curr_param_values>=1400\n",
    "    \n",
    "    for idx in list(range(12)) + [34, 98]:\n",
    "        param_str = 'param' + str(idx + 1)\n",
    "        print(param_str)\n",
    "        if param_str not in param_transfer_dict.keys():\n",
    "            print(curr_csv[param_str].value_counts())\n",
    "            print(curr_csv[param_str].value_counts(normalize=True))\n",
    "            missing_value_no = int(np.sum(curr_csv[param_str].isnull()))\n",
    "            print('missing: ' + str(missing_value_no) + ', perc=' + str(round(float(missing_value_no/len(curr_csv)),3)))\n",
    "        else:\n",
    "            curr_param_values = np.array(list(curr_csv[param_str]))\n",
    "            curr_mean, curr_std = param_transfer_dict[param_str]\n",
    "            curr_param_values = curr_param_values * curr_std + curr_mean\n",
    "            print('mean is : ' + str(round(np.nanmean(curr_param_values), 2)) + ', std is : ' + str(round(np.nanstd(curr_param_values), 2)))\n",
    "            missing_value_no = int(np.sum(curr_csv[param_str].isnull()))\n",
    "            print('missing: ' + str(missing_value_no) + ', perc=' + str(round(float(missing_value_no/len(curr_csv)),3)))\n",
    "        print('\\n')"
   ]
  },
  {
   "cell_type": "code",
   "execution_count": null,
   "id": "8eb0d2c4-379a-44b4-881c-1af7eb0d4f79",
   "metadata": {},
   "outputs": [],
   "source": [
    "get_dataset_stats(external_test)"
   ]
  },
  {
   "cell_type": "code",
   "execution_count": null,
   "id": "16829c3f-4104-4eb9-a288-5c227ace0482",
   "metadata": {},
   "outputs": [],
   "source": [
    "from glob import glob\n",
    "from copy import deepcopy\n",
    "numerical_param_set = ['param2', 'param3', 'param4', 'param5', 'param6', 'param7']\n",
    "categorial_param_set = ['param1', 'param8', 'param9', 'param10', 'param11', 'param12']\n",
    "all_csv_file_list = glob('/ssd/kangdang/mmc_project_2023_submission/external_test_code/fusion/external_test_mice_imputation_*.csv')\n",
    "all_csv_data = [pd.read_csv(_) for _ in all_csv_file_list]\n",
    "numerical_param_values_all = list()\n",
    "for curr_param in  numerical_param_set:\n",
    "    numerical_param_values_curr = list()\n",
    "    for curr_csv_data in all_csv_data:\n",
    "        numerical_param_values_curr.append(curr_csv_data[curr_param])\n",
    "    numerical_param_values_all.append(np.array(numerical_param_values_curr))\n",
    "print(np.array(numerical_param_values_all).shape)\n",
    "numerical_param_values_all = np.mean(numerical_param_values_all, axis=1)\n",
    "print(numerical_param_values_all.shape)\n",
    "\n",
    "categorial_param_values_all = list()\n",
    "for curr_param in categorial_param_set:\n",
    "    print(curr_param)\n",
    "    categorial_param_values_curr = list()\n",
    "    for curr_csv_data in all_csv_data:\n",
    "        print(np.unique(curr_csv_data[curr_param]))\n",
    "        categorial_param_values_curr.append(curr_csv_data[curr_param])\n",
    "    categorial_param_values_all.append(np.array(categorial_param_values_curr))\n",
    "categorial_param_values_all = np.array(categorial_param_values_all)\n",
    "print(np.unique(categorial_param_values_all))\n",
    "print(categorial_param_values_all.shape)\n",
    "categorial_param_values_all = categorial_param_values_all.astype(np.int64)\n",
    "categorial_param_values_all = np.apply_along_axis(lambda x: np.bincount(x).argmax(), axis=1, arr=categorial_param_values_all)\n",
    "print(categorial_param_values_all.shape)\n",
    "\n",
    "new_csv_data = deepcopy(all_csv_data[0])\n",
    "for idx, name in enumerate(numerical_param_set):\n",
    "    print(np.mean(new_csv_data[name]))\n",
    "    new_csv_data.drop(name, axis = 1, inplace = True)\n",
    "    new_csv_data[name] = numerical_param_values_all[idx]\n",
    "    print(np.mean(new_csv_data[name]))\n",
    "    print('\\n')\n",
    "for idx, name in enumerate(categorial_param_set):\n",
    "    print(np.mean(new_csv_data[name]))\n",
    "    new_csv_data.drop(name, axis = 1, inplace = True)\n",
    "    new_csv_data[name] = categorial_param_values_all[idx]\n",
    "    print(np.mean(new_csv_data[name]))\n",
    "    #print('\\n')"
   ]
  },
  {
   "cell_type": "code",
   "execution_count": null,
   "id": "1dd27ffc-4175-4c80-8f81-e29f987915e1",
   "metadata": {},
   "outputs": [],
   "source": []
  }
 ],
 "metadata": {
  "kernelspec": {
   "display_name": "Python 3 (ipykernel)",
   "language": "python",
   "name": "python3"
  },
  "language_info": {
   "codemirror_mode": {
    "name": "ipython",
    "version": 3
   },
   "file_extension": ".py",
   "mimetype": "text/x-python",
   "name": "python",
   "nbconvert_exporter": "python",
   "pygments_lexer": "ipython3",
   "version": "3.8.16"
  }
 },
 "nbformat": 4,
 "nbformat_minor": 5
}
