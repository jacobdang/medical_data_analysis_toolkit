{
 "cells": [
  {
   "cell_type": "code",
   "execution_count": 1,
   "id": "035e0f46-720c-4c4e-a518-af42455a0e96",
   "metadata": {},
   "outputs": [],
   "source": [
    "import csv\n",
    "import pandas as pd\n",
    "import json\n",
    "import os\n",
    "import os.path as pathlib\n",
    "import numpy as np\n",
    "from copy import deepcopy\n",
    "from glob import glob\n",
    "from finalize_table_common_fun import convert_img_to_patient_csv\n",
    "\n",
    "def do_conversion(dataset_type='random'):\n",
    "    toproot_dir = '/ssd/kangdang/mmc_project_2023_submission'\n",
    "    root_dir = pathlib.join(toproot_dir, 'main_exp_code', 'step1_preprocessing_redo')\n",
    "    output_dir = pathlib.join(root_dir, 'preprocessed_data', dataset_type + '_processed_final_csv')\n",
    "    os.makedirs(output_dir, exist_ok=True)\n",
    "    img_only_csv_list = [pathlib.join(root_dir, 'preprocessed_data', 'train_table_orig_'+ dataset_type +'.csv'), \n",
    "                         pathlib.join(root_dir, 'preprocessed_data', 'val_table_orig_'+ dataset_type +'.csv'),\n",
    "                         pathlib.join(root_dir, 'preprocessed_data', 'test_table_orig_'+ dataset_type + '.csv')]\n",
    "    for img_level_csv in img_only_csv_list:\n",
    "        patient_level_csv = pathlib.join(output_dir, pathlib.basename(img_level_csv).replace('.csv', '_12_vars_with_nan_intermediate_table_patient_level.csv'))\n",
    "        feats=[1,2,3,4,5,6,7,8,9,10,11,12]\n",
    "        convert_img_to_patient_csv(img_level_csv, patient_level_csv, feats=feats, target=35)"
   ]
  },
  {
   "cell_type": "code",
   "execution_count": 2,
   "id": "e497ed5b-6d71-4ded-b0d0-ac17be0ea378",
   "metadata": {},
   "outputs": [],
   "source": [
    "do_conversion(dataset_type='random')"
   ]
  },
  {
   "cell_type": "code",
   "execution_count": null,
   "id": "11be35b5-e410-454c-90a4-7c8191f83042",
   "metadata": {},
   "outputs": [],
   "source": []
  }
 ],
 "metadata": {
  "kernelspec": {
   "display_name": "Python 3 (ipykernel)",
   "language": "python",
   "name": "python3"
  },
  "language_info": {
   "codemirror_mode": {
    "name": "ipython",
    "version": 3
   },
   "file_extension": ".py",
   "mimetype": "text/x-python",
   "name": "python",
   "nbconvert_exporter": "python",
   "pygments_lexer": "ipython3",
   "version": "3.10.12"
  }
 },
 "nbformat": 4,
 "nbformat_minor": 5
}
