{
 "cells": [
  {
   "cell_type": "code",
   "execution_count": 1,
   "id": "0be915f7-ac32-4ff7-90ad-64ec8996008f",
   "metadata": {
    "tags": []
   },
   "outputs": [],
   "source": [
    "import pandas as pd\n",
    "import os.path as pathlib\n",
    "toproot_dir = '/ssd/kangdang/mmc_project_2023_submission'\n",
    "root_dir = pathlib.join(toproot_dir, 'main_exp_code', 'step1_preprocessing_redo')\n",
    "train_table = pd.read_csv(pathlib.join(root_dir, 'preprocessed_data', 'train_table_orig_random.csv'))\n",
    "val_table = pd.read_csv(pathlib.join(root_dir, 'preprocessed_data', 'val_table_orig_random.csv'))\n",
    "test_table = pd.read_csv(pathlib.join(root_dir, 'preprocessed_data', 'test_table_orig_random.csv'))"
   ]
  },
  {
   "cell_type": "code",
   "execution_count": 2,
   "id": "8b46e8b6-1a32-41a3-8f3a-4a6514ec0c4b",
   "metadata": {
    "scrolled": true,
    "tags": []
   },
   "outputs": [
    {
     "name": "stdout",
     "output_type": "stream",
     "text": [
      "29081\n",
      "7331\n"
     ]
    }
   ],
   "source": [
    "trainval_patient_id = set(train_table['patient_id']).union(set(val_table['patient_id']))\n",
    "print(len(trainval_patient_id))\n",
    "test_patient_id = set(test_table['patient_id'])\n",
    "print(len(test_patient_id))"
   ]
  },
  {
   "cell_type": "code",
   "execution_count": 3,
   "id": "bde6ec93-476c-420b-a61a-33440f98224b",
   "metadata": {
    "tags": []
   },
   "outputs": [],
   "source": [
    "trainval_patient_id = list(trainval_patient_id)\n",
    "trainval_patient_id = pd.DataFrame(trainval_patient_id)\n",
    "trainval_patient_id.to_csv('train.csv', index=False)"
   ]
  },
  {
   "cell_type": "code",
   "execution_count": 4,
   "id": "c3fe94ae-659a-49f8-97ba-26020ca28588",
   "metadata": {
    "tags": []
   },
   "outputs": [],
   "source": [
    "test_patient_id = list(test_patient_id)\n",
    "test_patient_id = pd.DataFrame(test_patient_id)\n",
    "test_patient_id.to_csv('test.csv', index=False)"
   ]
  },
  {
   "cell_type": "code",
   "execution_count": 6,
   "id": "5de49356-957a-40a3-a024-e3adbbf84113",
   "metadata": {},
   "outputs": [
    {
     "data": {
      "text/plain": [
       "0.20133472481599474"
      ]
     },
     "execution_count": 6,
     "metadata": {},
     "output_type": "execute_result"
    }
   ],
   "source": [
    "7331/(29081+7331)"
   ]
  },
  {
   "cell_type": "code",
   "execution_count": null,
   "id": "d5300262-11cf-4359-ac6a-67fa59d7d041",
   "metadata": {},
   "outputs": [],
   "source": []
  }
 ],
 "metadata": {
  "kernelspec": {
   "display_name": "Python 3 (ipykernel)",
   "language": "python",
   "name": "python3"
  },
  "language_info": {
   "codemirror_mode": {
    "name": "ipython",
    "version": 3
   },
   "file_extension": ".py",
   "mimetype": "text/x-python",
   "name": "python",
   "nbconvert_exporter": "python",
   "pygments_lexer": "ipython3",
   "version": "3.10.12"
  }
 },
 "nbformat": 4,
 "nbformat_minor": 5
}
